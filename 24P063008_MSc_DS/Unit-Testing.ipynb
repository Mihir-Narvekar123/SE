{
 "cells": [
  {
   "cell_type": "code",
   "execution_count": 1,
   "metadata": {},
   "outputs": [],
   "source": [
    "import unittest"
   ]
  },
  {
   "cell_type": "code",
   "execution_count": 2,
   "metadata": {},
   "outputs": [],
   "source": [
    "def is_prime(n):\n",
    "    \"\"\"Check if a number is prime.\"\"\"\n",
    "    if n < 2:\n",
    "        return False\n",
    "    for i in range(2, int(n ** 0.5) + 1):\n",
    "        if n % i == 0:\n",
    "            return False\n",
    "    return True"
   ]
  },
  {
   "cell_type": "code",
   "execution_count": 3,
   "metadata": {},
   "outputs": [],
   "source": [
    "class TestIsPrime(unittest.TestCase):\n",
    "    def test_prime_numbers(self):\n",
    "        self.assertTrue(is_prime(2))\n",
    "        self.assertTrue(is_prime(3))\n",
    "        self.assertTrue(is_prime(5))\n",
    "        self.assertTrue(is_prime(7))\n",
    "        self.assertTrue(is_prime(11))\n",
    "        self.assertTrue(is_prime(13))\n",
    "        self.assertTrue(is_prime(17))\n",
    "        self.assertTrue(is_prime(19))"
   ]
  },
  {
   "cell_type": "code",
   "execution_count": 4,
   "metadata": {},
   "outputs": [],
   "source": [
    "def test_non_prime_numbers(self):\n",
    "        self.assertFalse(is_prime(0))\n",
    "        self.assertFalse(is_prime(1))\n",
    "        self.assertFalse(is_prime(4))\n",
    "        self.assertFalse(is_prime(6))\n",
    "        self.assertFalse(is_prime(8))\n",
    "        self.assertFalse(is_prime(9))\n",
    "        self.assertFalse(is_prime(10))\n",
    "        self.assertFalse(is_prime(12))"
   ]
  },
  {
   "cell_type": "code",
   "execution_count": 5,
   "metadata": {},
   "outputs": [],
   "source": [
    "def test_negative_numbers(self):\n",
    "        self.assertFalse(is_prime(-1))\n",
    "        self.assertFalse(is_prime(-5))\n",
    "        self.assertFalse(is_prime(-10))"
   ]
  },
  {
   "cell_type": "code",
   "execution_count": 7,
   "metadata": {},
   "outputs": [
    {
     "name": "stderr",
     "output_type": "stream",
     "text": [
      "test_prime_numbers (__main__.TestIsPrime.test_prime_numbers) ... ok\n",
      "\n",
      "----------------------------------------------------------------------\n",
      "Ran 1 test in 0.005s\n",
      "\n",
      "OK\n"
     ]
    },
    {
     "data": {
      "text/plain": [
       "<unittest.main.TestProgram at 0x1325bb19490>"
      ]
     },
     "execution_count": 7,
     "metadata": {},
     "output_type": "execute_result"
    }
   ],
   "source": [
    "unittest.main(argv=[''], verbosity=2, exit=False)\n"
   ]
  }
 ],
 "metadata": {
  "kernelspec": {
   "display_name": "Python 3",
   "language": "python",
   "name": "python3"
  },
  "language_info": {
   "codemirror_mode": {
    "name": "ipython",
    "version": 3
   },
   "file_extension": ".py",
   "mimetype": "text/x-python",
   "name": "python",
   "nbconvert_exporter": "python",
   "pygments_lexer": "ipython3",
   "version": "3.11.0"
  }
 },
 "nbformat": 4,
 "nbformat_minor": 2
}
